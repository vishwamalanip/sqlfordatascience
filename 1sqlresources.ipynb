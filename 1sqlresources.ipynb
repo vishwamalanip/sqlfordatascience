{
 "cells": [
  {
   "cell_type": "markdown",
   "id": "38659320",
   "metadata": {},
   "source": [
    "what to cover:\n",
    "\n",
    "    1.DML Commands- Insert, Select, Delete, Update, Where, Order By\n",
    "    2. SQL joins\n",
    "    3.subquery and temp tables\n",
    "    4.SQL cases\n",
    "    5.stored procedures and functions\n",
    "    6.window functions\n",
    "    \n",
    "\n",
    "what to learn:\n",
    "\n",
    "    1.Normalization and denormalization \n",
    "    2.Indexing\n",
    "    3.query optimization practices \n",
    "    4.data types\n",
    "    5.schema design(creating databases and table)"
   ]
  },
  {
   "cell_type": "markdown",
   "id": "110041ca",
   "metadata": {},
   "source": [
    "resources : https://www.w3schools.com/sql/\n",
    "\n",
    "https://docs.google.com/document/d/1wCALgWubTOvuvlXJ3Eweh7AgJj4sPq2pW92y3viPZbs/edit#heading=h.e469kzlgl447"
   ]
  },
  {
   "cell_type": "code",
   "execution_count": null,
   "id": "e0f5fc0e",
   "metadata": {},
   "outputs": [],
   "source": []
  }
 ],
 "metadata": {
  "kernelspec": {
   "display_name": "Python 3 (ipykernel)",
   "language": "python",
   "name": "python3"
  },
  "language_info": {
   "codemirror_mode": {
    "name": "ipython",
    "version": 3
   },
   "file_extension": ".py",
   "mimetype": "text/x-python",
   "name": "python",
   "nbconvert_exporter": "python",
   "pygments_lexer": "ipython3",
   "version": "3.11.5"
  }
 },
 "nbformat": 4,
 "nbformat_minor": 5
}
